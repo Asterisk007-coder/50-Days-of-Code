{
 "cells": [
  {
   "cell_type": "code",
   "execution_count": null,
   "metadata": {},
   "outputs": [],
   "source": [
    "\n",
    "# testing loop:\n",
    "\n",
    "num_epochs = 100\n",
    "corrects = 0\n",
    "max_N = 10\n",
    "np.random.seed(42)\n",
    "print_interval = 20\n",
    "for epoch in range(num_epochs):\n",
    "  a= np.random.randint(0,max_N - 1)\n",
    "  b= np.random.randint(0,max_N - 1)\n",
    "\n",
    "\n",
    "  idx = torch.tensor(encode(encode_first(a,b)))\n",
    "  idx = idx.view(1,idx.shape[0])\n",
    "  # print(f\"a = {a}, and b = {b}\")\n",
    "  \n",
    "    \n",
    "\n",
    "  try:\n",
    "    c = int((decode(m12.generate(idx, max_new_tokens=10)[0].tolist()))[-1])\n",
    "    if epoch%print_interval == 0:\n",
    "      print(a,b,c)\n",
    "  except:\n",
    "    continue\n",
    "  if c == a+b :\n",
    "    corrects+=1\n",
    "print(f\"Correct answers : {corrects/num_epochs*100:.2f} %\")"
   ]
  }
 ],
 "metadata": {
  "language_info": {
   "name": "python"
  }
 },
 "nbformat": 4,
 "nbformat_minor": 2
}
